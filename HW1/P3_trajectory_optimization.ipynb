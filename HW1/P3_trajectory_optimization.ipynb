{
 "cells": [
  {
   "cell_type": "markdown",
   "metadata": {
    "id": "WshFeYmnY8sT"
   },
   "source": [
    "# HW1 AA274A Problem 3\n",
    "\n",
    "In this problem, you will write a trajectory optimization algorithm to generate a feasible trajectory subject to some constraints. Our setup includes the \"ego\" vehicle (meaning the agent we control), a static obstacle, and a goal position to be reached.\n",
    "\n",
    "In this setup, we will not make the assumption of differential flatness and instead solve the problem with a nonlinear optimizer!\n"
   ]
  },
  {
   "cell_type": "markdown",
   "metadata": {
    "id": "Z09yDOn0fSvM"
   },
   "source": [
    "# Problem Setup\n",
    "We will first consider the case in which we are trying to generate a trajectory for a Turtlebot that must avoid an object. The agent has an initial position, a goal position, and a big obstacle in the center of the initial path. Our agent therefore must generate a trajectory that is dynamically feasible, does not collide with the obstacle, and reaches the final goal pose."
   ]
  },
  {
   "cell_type": "code",
   "execution_count": 2,
   "metadata": {
    "id": "8dsWwGaDcwdY"
   },
   "outputs": [],
   "source": [
    "import numpy as np\n",
    "import matplotlib.pyplot as plt\n",
    "from scipy.optimize import minimize, Bounds\n",
    "import typing as T"
   ]
  },
  {
   "cell_type": "code",
   "execution_count": 3,
   "metadata": {
    "id": "jfWNEbKMhCio"
   },
   "outputs": [],
   "source": [
    "from utils import simulate_car_dyn, maybe_makedirs\n"
   ]
  },
  {
   "cell_type": "code",
   "execution_count": 4,
   "metadata": {
    "id": "aXBY0tKZY-QT"
   },
   "outputs": [],
   "source": [
    "# Initial conditions and parameters\n",
    "EGO_START_POS, EGO_FINAL_GOAL_POS = (0.0,0.0), (5.0,5.0)\n",
    "EGO_RADIUS, OBS_RADIUS = 0.1, 0.3\n",
    "OBSTACLE_POS = (2.5, 2.5)"
   ]
  },
  {
   "cell_type": "markdown",
   "metadata": {
    "id": "Lb1lyHx8fwKB"
   },
   "source": [
    "# Visualizing the Scene"
   ]
  },
  {
   "cell_type": "code",
   "execution_count": 5,
   "metadata": {
    "id": "3qsiPYMzchxf"
   },
   "outputs": [],
   "source": [
    "def render_scene(traj=None, print_alpha=None):\n",
    "  fig, ax = plt.subplots()\n",
    "  ego_circle_start = plt.Circle(EGO_START_POS, radius=EGO_RADIUS, color='lime')\n",
    "  ego_circle_end   = plt.Circle(EGO_FINAL_GOAL_POS, radius=EGO_RADIUS, color='red')\n",
    "  obs_circle       = plt.Circle(OBSTACLE_POS, radius=OBS_RADIUS, color='blue')\n",
    "  ax.add_patch(obs_circle)\n",
    "  if traj is not None:\n",
    "    for i in range(traj.shape[0]):\n",
    "      x,y,theta = traj[i]\n",
    "      ego_circle_current = plt.Circle((x, y), radius=EGO_RADIUS, color='cyan')\n",
    "      ax.add_patch(ego_circle_current)\n",
    "      ego_arrow_current = plt.arrow(x, y, dx=np.cos(theta)/2, dy=np.sin(theta)/2, head_width=0.1)\n",
    "      ax.add_patch(ego_arrow_current)\n",
    "  ax.add_patch(ego_circle_start)\n",
    "  ax.add_patch(ego_circle_end)\n",
    "  ax.set_xlim((-1.0, 6.0))\n",
    "  ax.set_ylim((-1.0, 6.0))\n",
    "  ax.set_aspect('equal')\n",
    "  if print_alpha is not None:\n",
    "    plt.title(\"Alpha: {:.2f}\".format(print_alpha))\n",
    "  return plt"
   ]
  },
  {
   "cell_type": "code",
   "execution_count": 6,
   "metadata": {
    "colab": {
     "base_uri": "https://localhost:8080/",
     "height": 435
    },
    "executionInfo": {
     "elapsed": 274,
     "status": "ok",
     "timestamp": 1696018252736,
     "user": {
      "displayName": "Keiko Nagami",
      "userId": "10093190229210908038"
     },
     "user_tz": 420
    },
    "id": "sa-nhG64dMlw",
    "outputId": "0c6b3ccf-bc22-4300-cd3a-121b6664a067"
   },
   "outputs": [
    {
     "data": {
      "image/png": "[encoded data removed]",
      "text/plain": [
       "<Figure size 432x288 with 1 Axes>"
      ]
     },
     "metadata": {
      "needs_background": "light"
     },
     "output_type": "display_data"
    }
   ],
   "source": [
    "# VIZUALIZE THE INITIAL SCENE\n",
    "# RED circle is the obstacle\n",
    "# GREEN is ego start position\n",
    "# BLUE is obstacle position\n",
    "plt = render_scene()\n",
    "plt.show()"
   ]
  },
  {
   "cell_type": "markdown",
   "metadata": {
    "id": "N2rPg41Ohu6E"
   },
   "source": [
    "## Code Setup\n",
    "\n",
    "Here we will define some essential values for our problem (such as the initial state, final state, etc.). We have also provided two helper functions that may be useful for you!\n",
    "\n",
    "**TODO:** Fill in code for the initial and final state of the ego agent below. Some hints are provided in the code comments"
   ]
  },
  {
   "cell_type": "code",
   "execution_count": 7,
   "metadata": {
    "id": "pm850gRihuEZ"
   },
   "outputs": [],
   "source": [
    "############################## Code starts here ##############################\n",
    "# TODO: Define the initial and final state as numpy arrays for the ego agent here\n",
    "# HINTS: Our state is a 3 dimensional vector [x, y, heading].\n",
    "s_0 = np.array([EGO_START_POS[0],EGO_START_POS[1], np.pi/2])  # Initial state.\n",
    "s_f = np.array([EGO_FINAL_GOAL_POS[1],EGO_FINAL_GOAL_POS[1],np.pi/2])  # Final state.\n",
    "############################## Code ends here ##############################\n",
    "\n",
    "N = 50  # Number of time discretization nodes (0, 1, ... N).\n",
    "s_dim = 3  # State dimension; 3 for (x, y, th).\n",
    "u_dim = 2  # Control dimension; 2 for (V, om).\n",
    "v_max = 0.5  # Maximum linear velocity.\n",
    "om_max = 1.0  # Maximum angular velocity.\n",
    "\n",
    "def pack_decision_variables(t_f: float, s: np.ndarray, u: np.ndarray) -> np.ndarray:\n",
    "    \"\"\"Packs decision variables (final time, states, controls) into a 1D vector.\n",
    "\n",
    "    Args:\n",
    "        t_f: Final time, a scalar.\n",
    "        s: States, an array of shape (N + 1, s_dim).\n",
    "        u: Controls, an array of shape (N, u_dim).\n",
    "\n",
    "    Returns:\n",
    "        An array `z` of shape (1 + (N + 1) * s_dim + N * u_dim,).\n",
    "    \"\"\"\n",
    "    return np.concatenate([[t_f], s.ravel(), u.ravel()])\n",
    "\n",
    "\n",
    "def unpack_decision_variables(z: np.ndarray) -> T.Tuple[float, np.ndarray, np.ndarray]:\n",
    "    \"\"\"Unpacks a 1D vector into decision variables (final time, states, controls).\n",
    "\n",
    "    Args:\n",
    "        z: An array of shape (1 + (N + 1) * s_dim + N * u_dim,).\n",
    "\n",
    "    Returns:\n",
    "        t_f: Final time, a scalar.\n",
    "        s: States, an array of shape (N + 1, s_dim).\n",
    "        u: Controls, an array of shape (N, u_dim).\n",
    "    \"\"\"\n",
    "    t_f = float(z[0])\n",
    "    s = z[1:1 + (N + 1) * s_dim].reshape(N + 1, s_dim)\n",
    "    u = z[-N * u_dim:].reshape(N, u_dim)\n",
    "    return t_f, s, u"
   ]
  },
  {
   "cell_type": "markdown",
   "metadata": {
    "id": "Tnq6CNk7g2A2"
   },
   "source": [
    "## Trajectory Optimization\n",
    "\n",
    "Next, we will define a function to set up and solve the trajectory optimization problem. Consider the following questions:\n",
    "\n",
    "\n",
    "\n",
    "1.   What is the cost for a given trajectory?\n",
    "2.   What are the **constraints** that the trajectory must obey? Constraints here are *equality* constraints.\n",
    "\n",
    "We will use scipy.optimize.minimize to solve this nonlinear optimization problem. You can find some documentation for this function [here](https://docs.scipy.org/doc/scipy/reference/generated/scipy.optimize.minimize.html)\n",
    "\n"
   ]
  },
  {
   "cell_type": "code",
   "execution_count": 8,
   "metadata": {
    "id": "Ku5f2oEudUyJ"
   },
   "outputs": [],
   "source": [
    "def optimize_trajectory(\n",
    "    time_weight: float = 1.0,\n",
    "    verbose: bool = True\n",
    "):\n",
    "    \"\"\"Computes the optimal trajectory as a function of `time_weight`.\n",
    "\n",
    "    Args:\n",
    "        time_weight: \\alpha in the HW writeup.\n",
    "\n",
    "    Returns:\n",
    "        t_f_opt: Final time, a scalar.\n",
    "        s_opt: States, an array of shape (N + 1, s_dim).\n",
    "        u_opt: Controls, an array of shape (N, u_dim).\n",
    "    \"\"\"\n",
    "\n",
    "    def cost(z):\n",
    "        ############################## Code starts here ##############################\n",
    "        # TODO: Define a cost function here\n",
    "        # HINT: you may find `unpack_decision_variables` useful here. z is the packed 1D representation of t,s and u. Return the value of the cost.\n",
    "        t_f, s, u = unpack_decision_variables(z)\n",
    "        dt = t_f / N\n",
    "        J=0\n",
    "        for i in range(N):\n",
    "            J+= (time_weight+(u[i][0])**2+(u[i][1])**2)*dt\n",
    "            \n",
    "        return J\n",
    "        ############################## Code ends here ##############################\n",
    "\n",
    "    # Initialize the trajectory with a straight line\n",
    "    z_guess = pack_decision_variables(\n",
    "        20, s_0 + np.linspace(0, 1, N + 1)[:, np.newaxis] * (s_f - s_0),\n",
    "        np.ones(N * u_dim))\n",
    "\n",
    "    # Minimum and Maximum bounds on states and controls\n",
    "    # This is because we would want to include safety limits\n",
    "    # for omega (steering) and velocity (speed limit)\n",
    "    bounds = Bounds(\n",
    "        pack_decision_variables(\n",
    "            0., -np.inf * np.ones((N + 1, s_dim)),\n",
    "            np.array([0.01, -om_max]) * np.ones((N, u_dim))),\n",
    "        pack_decision_variables(\n",
    "            np.inf, np.inf * np.ones((N + 1, s_dim)),\n",
    "            np.array([v_max, om_max]) * np.ones((N, u_dim)))\n",
    "    )\n",
    "\n",
    "    # Define the equality constraints\n",
    "    def eq_constraints(z):\n",
    "        t_f, s, u = unpack_decision_variables(z)\n",
    "        dt = t_f / N\n",
    "        constraint_list = []\n",
    "        for i in range(N):\n",
    "            V, om = u[i]\n",
    "            x, y, th = s[i]\n",
    "            ############################## Code starts here ##############################\n",
    "            # TODO: Append to `constraint_list` with dynanics constraints\n",
    "            constraint_list.append(np.array([s[i + 1][0] - (x + V * np.cos(th) * dt)]))\n",
    "            constraint_list.append(np.array([s[i + 1][1] - (y + V * np.sin(th) * dt)]))\n",
    "            constraint_list.append(np.array([s[i + 1][2] - (th + om * dt)]))\n",
    "            ############################## Code ends here ##############################\n",
    "\n",
    "        ############################## Code starts here ##############################\n",
    "        # TODO: Append to `constraint_list` with initial and final state constraints\n",
    "        constraint_list.append(s[0] - s_0)\n",
    "        constraint_list.append(s[N] - s_f)\n",
    "        ############################## Code ends here ##############################\n",
    "        return np.concatenate(constraint_list)\n",
    "\n",
    "    # Define the inequality constraints\n",
    "    def ineq_constraints(z):\n",
    "        t_f, s, u = unpack_decision_variables(z)\n",
    "        dt = t_f / N\n",
    "        constraint_list = []\n",
    "        for i in range(N):\n",
    "            V, om = u[i]\n",
    "            x, y, th = s[i]\n",
    "            ############################## Code starts here ##############################\n",
    "            # TODO: Append to `constraint_list` with collision avoidance constraint\n",
    "            constraint_list.append(np.sqrt((x - OBSTACLE_POS[0])**2 + (y - OBSTACLE_POS[1])**2) - (OBS_RADIUS + EGO_RADIUS))          \n",
    "            ############################## Code ends here ################################\n",
    "        return np.array(constraint_list)\n",
    "\n",
    "    result = minimize(cost,\n",
    "                      z_guess,\n",
    "                      bounds=bounds,\n",
    "                      constraints=[{\n",
    "                          'type': 'eq',\n",
    "                          'fun': eq_constraints\n",
    "                      },\n",
    "                      {\n",
    "                          'type': 'ineq',\n",
    "                          'fun': ineq_constraints\n",
    "                      }])\n",
    "    if verbose:\n",
    "        print(result)\n",
    "\n",
    "    return unpack_decision_variables(result.x)"
   ]
  },
  {
   "cell_type": "code",
   "execution_count": 9,
   "metadata": {
    "id": "EfGNzPN8jHST"
   },
   "outputs": [
    {
     "name": "stdout",
     "output_type": "stream",
     "text": [
      "     fun: 19.072902082828605\n",
      "     jac: array([ 1.30171108,  0.        ,  0.        ,  0.        ,  0.        ,\n",
      "        0.        ,  0.        ,  0.        ,  0.        ,  0.        ,\n",
      "        0.        ,  0.        ,  0.        ,  0.        ,  0.        ,\n",
      "        0.        ,  0.        ,  0.        ,  0.        ,  0.        ,\n",
      "        0.        ,  0.        ,  0.        ,  0.        ,  0.        ,\n",
      "        0.        ,  0.        ,  0.        ,  0.        ,  0.        ,\n",
      "        0.        ,  0.        ,  0.        ,  0.        ,  0.        ,\n",
      "        0.        ,  0.        ,  0.        ,  0.        ,  0.        ,\n",
      "        0.        ,  0.        ,  0.        ,  0.        ,  0.        ,\n",
      "        0.        ,  0.        ,  0.        ,  0.        ,  0.        ,\n",
      "        0.        ,  0.        ,  0.        ,  0.        ,  0.        ,\n",
      "        0.        ,  0.        ,  0.        ,  0.        ,  0.        ,\n",
      "        0.        ,  0.        ,  0.        ,  0.        ,  0.        ,\n",
      "        0.        ,  0.        ,  0.        ,  0.        ,  0.        ,\n",
      "        0.        ,  0.        ,  0.        ,  0.        ,  0.        ,\n",
      "        0.        ,  0.        ,  0.        ,  0.        ,  0.        ,\n",
      "        0.        ,  0.        ,  0.        ,  0.        ,  0.        ,\n",
      "        0.        ,  0.        ,  0.        ,  0.        ,  0.        ,\n",
      "        0.        ,  0.        ,  0.        ,  0.        ,  0.        ,\n",
      "        0.        ,  0.        ,  0.        ,  0.        ,  0.        ,\n",
      "        0.        ,  0.        ,  0.        ,  0.        ,  0.        ,\n",
      "        0.        ,  0.        ,  0.        ,  0.        ,  0.        ,\n",
      "        0.        ,  0.        ,  0.        ,  0.        ,  0.        ,\n",
      "        0.        ,  0.        ,  0.        ,  0.        ,  0.        ,\n",
      "        0.        ,  0.        ,  0.        ,  0.        ,  0.        ,\n",
      "        0.        ,  0.        ,  0.        ,  0.        ,  0.        ,\n",
      "        0.        ,  0.        ,  0.        ,  0.        ,  0.        ,\n",
      "        0.        ,  0.        ,  0.        ,  0.        ,  0.        ,\n",
      "        0.        ,  0.        ,  0.        ,  0.        ,  0.        ,\n",
      "        0.        ,  0.        ,  0.        ,  0.        ,  0.        ,\n",
      "        0.        ,  0.        ,  0.        ,  0.        ,  0.29304338,\n",
      "       -0.4589262 ,  0.29304338, -0.3720572 ,  0.29304338, -0.2990458 ,\n",
      "        0.29304338, -0.23895669,  0.29304338, -0.19016409,  0.29304338,\n",
      "       -0.15085244,  0.29304338, -0.11931634,  0.29304338, -0.09405327,\n",
      "        0.29304338, -0.0737946 ,  0.29304338, -0.05749011,  0.29304338,\n",
      "       -0.04428101,  0.29304338, -0.03346157,  0.29304338, -0.02444148,\n",
      "        0.29304338, -0.01673508,  0.29304338, -0.00992322,  0.29304338,\n",
      "       -0.0036335 ,  0.29304338,  0.00244713,  0.29304338,  0.00863314,\n",
      "        0.29304338,  0.01523471,  0.29304338,  0.02259374,  0.29304338,\n",
      "        0.0312891 ,  0.29304338,  0.04167128,  0.29304338,  0.05431628,\n",
      "        0.29304338,  0.0699954 ,  0.29304338,  0.08923197,  0.29304338,\n",
      "        0.07132173,  0.29304338,  0.05729198,  0.29304338,  0.04624534,\n",
      "        0.29304338,  0.03744721,  0.29304338,  0.0307641 ,  0.29304338,\n",
      "        0.02581906,  0.29304338,  0.02233052,  0.29304338,  0.02009273,\n",
      "        0.29304338,  0.01894641,  0.29304338,  0.01878285,  0.29304338,\n",
      "        0.01961064,  0.29304338,  0.02147651,  0.29304338,  0.02447343,\n",
      "        0.29304338,  0.02875853,  0.29304338,  0.03455091,  0.29304338,\n",
      "        0.04215288,  0.29304338,  0.05196548,  0.29304338,  0.06450486,\n",
      "        0.29304361,  0.08042455,  0.29304338,  0.10054255,  0.29304361,\n",
      "        0.12586951,  0.29304338,  0.15763474,  0.29304338,  0.19729233,\n",
      "        0.29304338,  0.24648833,  0.29304338,  0.3069346 ])\n",
      " message: 'Optimization terminated successfully'\n",
      "    nfev: 8927\n",
      "     nit: 35\n",
      "    njev: 35\n",
      "  status: 0\n",
      " success: True\n",
      "       x: array([ 1.46519492e+01,  8.13151629e-20,  3.06160016e-20,  1.57079633e+00,\n",
      "        8.94466792e-18,  1.46519492e-01,  1.34126016e+00,  3.33369771e-02,\n",
      "        2.89196075e-01,  1.15516461e+00,  9.24968516e-02,  4.23241109e-01,\n",
      "        1.00560228e+00,  1.70969718e-01,  5.46974578e-01,  8.86109532e-01,\n",
      "        2.63633104e-01,  6.60471093e-01,  7.91029686e-01,  3.66652939e-01,\n",
      "        7.64657828e-01,  7.15620369e-01,  4.77229205e-01,  8.60787177e-01,\n",
      "        6.55993381e-01,  5.93337465e-01,  9.50156264e-01,  6.09010882e-01,\n",
      "        7.13514841e-01,  1.03397368e+00,  5.72166961e-01,  8.36698120e-01,\n",
      "        1.11330742e+00,  5.43478967e-01,  9.62106326e-01,  1.18907511e+00,\n",
      "        5.21395087e-01,  1.08915706e+00,  1.26205505e+00,  5.04719266e-01,\n",
      "        1.21740708e+00,  1.33290627e+00,  4.92547993e-01,  1.34650992e+00,\n",
      "        1.40219132e+00,  4.84208477e-01,  1.47618607e+00,  1.47039731e+00,\n",
      "        4.79261204e-01,  1.60619807e+00,  1.53796093e+00,  4.77444086e-01,\n",
      "        1.73633263e+00,  1.60528819e+00,  4.78644702e-01,  1.86638626e+00,\n",
      "        1.67277164e+00,  4.82914925e-01,  1.99615053e+00,  1.74080983e+00,\n",
      "        4.90476436e-01,  2.12539662e+00,  1.80982728e+00,  5.01739205e-01,\n",
      "        2.25385721e+00,  1.88029600e+00,  5.17322276e-01,  2.38120412e+00,\n",
      "        1.95275788e+00,  5.38096040e-01,  2.50701836e+00,  2.02784942e+00,\n",
      "        5.65221233e-01,  2.63074970e+00,  2.10632565e+00,  6.00233038e-01,\n",
      "        2.75165817e+00,  2.18908495e+00,  6.44788860e-01,  2.86876046e+00,\n",
      "        2.27714752e+00,  6.80425223e-01,  2.98265083e+00,  2.36932639e+00,\n",
      "        7.09069149e-01,  3.09385449e+00,  2.46472927e+00,  7.32177633e-01,\n",
      "        3.20282403e+00,  2.56267620e+00,  7.50978105e-01,  3.30993297e+00,\n",
      "        2.66265438e+00,  7.66465950e-01,  3.41548068e+00,  2.76427938e+00,\n",
      "        7.79477009e-01,  3.51969725e+00,  2.86726904e+00,  7.90723890e-01,\n",
      "        3.62274894e+00,  2.97142427e+00,  8.00823684e-01,  3.72474345e+00,\n",
      "        3.07661497e+00,  8.10323487e-01,  3.82573408e+00,  3.18276983e+00,\n",
      "        8.19730032e-01,  3.92572170e+00,  3.28986996e+00,  8.29530687e-01,\n",
      "        4.02465489e+00,  3.39794488e+00,  8.40244086e-01,  4.12242457e+00,\n",
      "        3.50707348e+00,  8.52436308e-01,  4.21885650e+00,  3.61738597e+00,\n",
      "        8.66759088e-01,  4.31369861e+00,  3.72906827e+00,  8.83972018e-01,\n",
      "        4.40660438e+00,  3.84236646e+00,  9.04983894e-01,  4.49710921e+00,\n",
      "        3.95759161e+00,  9.30902746e-01,  4.58459748e+00,  4.07512359e+00,\n",
      "        9.63095150e-01,  4.66825743e+00,  4.19541063e+00,  1.00325519e+00,\n",
      "        4.74702050e+00,  4.31895958e+00,  1.05348736e+00,  4.81948069e+00,\n",
      "        4.44630746e+00,  1.11640256e+00,  4.88379068e+00,  4.57795922e+00,\n",
      "        1.19522609e+00,  4.93753449e+00,  4.71426611e+00,  1.29390992e+00,\n",
      "        4.97758735e+00,  4.85520485e+00,  1.41722637e+00,  5.00000000e+00,\n",
      "        5.00000000e+00,  1.57079633e+00,  5.00000000e-01, -7.83295680e-01,\n",
      "        5.00000000e-01, -6.35053879e-01,  5.00000000e-01, -5.10383728e-01,\n",
      "        5.00000000e-01, -4.07770833e-01,  5.00000000e-01, -3.24461426e-01,\n",
      "        5.00000000e-01, -2.57335444e-01,  5.00000000e-01, -2.03478010e-01,\n",
      "        5.00000000e-01, -1.60328495e-01,  5.00000000e-01, -1.25730445e-01,\n",
      "        5.00000000e-01, -9.78982209e-02,  5.00000000e-01, -7.53615799e-02,\n",
      "        5.00000000e-01, -5.69064983e-02,  5.00000000e-01, -4.15346554e-02,\n",
      "        5.00000000e-01, -2.84587287e-02,  5.00000000e-01, -1.68826435e-02,\n",
      "        5.00000000e-01, -6.20094474e-03,  5.00000000e-01,  4.09712335e-03,\n",
      "        5.00000000e-01,  1.45722011e-02,  5.00000000e-01,  2.58037753e-02,\n",
      "        5.00000000e-01,  3.84343744e-02,  5.00000000e-01,  5.31774696e-02,\n",
      "        5.00000000e-01,  7.08907906e-02,  5.00000000e-01,  9.25651365e-02,\n",
      "        5.00000000e-01,  1.19478318e-01,  5.00000000e-01,  1.52047425e-01,\n",
      "        5.00000000e-01,  1.21609632e-01,  5.00000000e-01,  9.77478340e-02,\n",
      "        5.00000000e-01,  7.88580575e-02,  5.00000000e-01,  6.41568925e-02,\n",
      "        5.00000000e-01,  5.28525003e-02,  5.00000000e-01,  4.44004339e-02,\n",
      "        5.00000000e-01,  3.83801475e-02,  5.00000000e-01,  3.44656984e-02,\n",
      "        5.00000000e-01,  3.24182206e-02,  5.00000000e-01,  3.20999801e-02,\n",
      "        5.00000000e-01,  3.34448850e-02,  5.00000000e-01,  3.65596358e-02,\n",
      "        5.00000000e-01,  4.16061467e-02,  5.00000000e-01,  4.88767078e-02,\n",
      "        5.00000000e-01,  5.87393899e-02,  5.00000000e-01,  7.17033519e-02,\n",
      "        5.00000000e-01,  8.84484809e-02,  5.00000000e-01,  1.09857073e-01,\n",
      "        5.00000000e-01,  1.37046736e-01,  5.00000000e-01,  1.71418069e-01,\n",
      "        5.00000000e-01,  2.14699072e-01,  5.00000000e-01,  2.68986495e-01,\n",
      "        5.00000000e-01,  3.36760069e-01,  5.00000000e-01,  4.20819279e-01,\n",
      "        5.00000000e-01,  5.24059810e-01])\n"
     ]
    }
   ],
   "source": [
    "# Call the trajectory optimizer\n",
    "t, s, u = optimize_trajectory()"
   ]
  },
  {
   "cell_type": "code",
   "execution_count": 10,
   "metadata": {
    "id": "WX-R-89YXVbK"
   },
   "outputs": [
    {
     "data": {
      "image/png": "[encoded data removed]",
      "text/plain": [
       "<Figure size 432x288 with 1 Axes>"
      ]
     },
     "metadata": {
      "needs_background": "light"
     },
     "output_type": "display_data"
    }
   ],
   "source": [
    "# Plot optimized trajectory\n",
    "plt = render_scene(s)\n",
    "plt.show()"
   ]
  },
  {
   "cell_type": "markdown",
   "metadata": {
    "id": "_JNEkklO1yTS"
   },
   "source": [
    "Let's write a small wrapper function which gives us a plot of the trajectory for a given value of alpha"
   ]
  },
  {
   "cell_type": "code",
   "execution_count": 11,
   "metadata": {
    "id": "ePmxqd0V16Gq"
   },
   "outputs": [],
   "source": [
    "def show_traj_plan(alpha=1.0):\n",
    "  t, s, u = optimize_trajectory(time_weight=alpha)\n",
    "  plt = render_scene(s, print_alpha=alpha)\n",
    "  plt.show()"
   ]
  },
  {
   "cell_type": "markdown",
   "metadata": {
    "id": "nvJ5yJ-V2IbY"
   },
   "source": [
    "## Varying alpha\n",
    "Let us now experiment with different values of alpha to see how the output changes. We have included three examples below, but feel free to experiment with other values as well!"
   ]
  },
  {
   "cell_type": "code",
   "execution_count": 15,
   "metadata": {
    "id": "zycxbTK72hRL"
   },
   "outputs": [
    {
     "name": "stdout",
     "output_type": "stream",
     "text": [
      "     fun: 77.22490044724505\n",
      "     jac: array([ 5.32939816e+00,  0.00000000e+00,  0.00000000e+00,  0.00000000e+00,\n",
      "        0.00000000e+00,  0.00000000e+00,  0.00000000e+00,  0.00000000e+00,\n",
      "        0.00000000e+00,  0.00000000e+00,  0.00000000e+00,  0.00000000e+00,\n",
      "        0.00000000e+00,  0.00000000e+00,  0.00000000e+00,  0.00000000e+00,\n",
      "        0.00000000e+00,  0.00000000e+00,  0.00000000e+00,  0.00000000e+00,\n",
      "        0.00000000e+00,  0.00000000e+00,  0.00000000e+00,  0.00000000e+00,\n",
      "        0.00000000e+00,  0.00000000e+00,  0.00000000e+00,  0.00000000e+00,\n",
      "        0.00000000e+00,  0.00000000e+00,  0.00000000e+00,  0.00000000e+00,\n",
      "        0.00000000e+00,  0.00000000e+00,  0.00000000e+00,  0.00000000e+00,\n",
      "        0.00000000e+00,  0.00000000e+00,  0.00000000e+00,  0.00000000e+00,\n",
      "        0.00000000e+00,  0.00000000e+00,  0.00000000e+00,  0.00000000e+00,\n",
      "        0.00000000e+00,  0.00000000e+00,  0.00000000e+00,  0.00000000e+00,\n",
      "        0.00000000e+00,  0.00000000e+00,  0.00000000e+00,  0.00000000e+00,\n",
      "        0.00000000e+00,  0.00000000e+00,  0.00000000e+00,  0.00000000e+00,\n",
      "        0.00000000e+00,  0.00000000e+00,  0.00000000e+00,  0.00000000e+00,\n",
      "        0.00000000e+00,  0.00000000e+00,  0.00000000e+00,  0.00000000e+00,\n",
      "        0.00000000e+00,  0.00000000e+00,  0.00000000e+00,  0.00000000e+00,\n",
      "        0.00000000e+00,  0.00000000e+00,  0.00000000e+00,  0.00000000e+00,\n",
      "        0.00000000e+00,  0.00000000e+00,  0.00000000e+00,  0.00000000e+00,\n",
      "        0.00000000e+00,  0.00000000e+00,  0.00000000e+00,  0.00000000e+00,\n",
      "        0.00000000e+00,  0.00000000e+00,  0.00000000e+00,  0.00000000e+00,\n",
      "        0.00000000e+00,  0.00000000e+00,  0.00000000e+00,  0.00000000e+00,\n",
      "        0.00000000e+00,  0.00000000e+00,  0.00000000e+00,  0.00000000e+00,\n",
      "        0.00000000e+00,  0.00000000e+00,  0.00000000e+00,  0.00000000e+00,\n",
      "        0.00000000e+00,  0.00000000e+00,  0.00000000e+00,  0.00000000e+00,\n",
      "        0.00000000e+00,  0.00000000e+00,  0.00000000e+00,  0.00000000e+00,\n",
      "        0.00000000e+00,  0.00000000e+00,  0.00000000e+00,  0.00000000e+00,\n",
      "        0.00000000e+00,  0.00000000e+00,  0.00000000e+00,  0.00000000e+00,\n",
      "        0.00000000e+00,  0.00000000e+00,  0.00000000e+00,  0.00000000e+00,\n",
      "        0.00000000e+00,  0.00000000e+00,  0.00000000e+00,  0.00000000e+00,\n",
      "        0.00000000e+00,  0.00000000e+00,  0.00000000e+00,  0.00000000e+00,\n",
      "        0.00000000e+00,  0.00000000e+00,  0.00000000e+00,  0.00000000e+00,\n",
      "        0.00000000e+00,  0.00000000e+00,  0.00000000e+00,  0.00000000e+00,\n",
      "        0.00000000e+00,  0.00000000e+00,  0.00000000e+00,  0.00000000e+00,\n",
      "        0.00000000e+00,  0.00000000e+00,  0.00000000e+00,  0.00000000e+00,\n",
      "        0.00000000e+00,  0.00000000e+00,  0.00000000e+00,  0.00000000e+00,\n",
      "        0.00000000e+00,  0.00000000e+00,  0.00000000e+00,  0.00000000e+00,\n",
      "        0.00000000e+00,  0.00000000e+00,  0.00000000e+00,  0.00000000e+00,\n",
      "        0.00000000e+00,  0.00000000e+00,  2.89807320e-01, -5.79614639e-01,\n",
      "        2.89807320e-01, -5.42654037e-01,  2.89807320e-01, -3.44784737e-01,\n",
      "        2.89807320e-01, -2.17501640e-01,  2.89807320e-01, -1.36828423e-01,\n",
      "        2.89807320e-01, -8.59909058e-02,  2.89807320e-01, -5.40227890e-02,\n",
      "        2.89807320e-01, -3.39231491e-02,  2.89807320e-01, -2.12402344e-02,\n",
      "        2.89807320e-01, -1.32169724e-02,  2.89807320e-01, -8.12435150e-03,\n",
      "        2.89807320e-01, -4.88567352e-03,  2.89807320e-01, -2.71320343e-03,\n",
      "        2.89807320e-01, -1.21974945e-03,  2.89807320e-01,  1.04904175e-05,\n",
      "        2.89807320e-01,  1.30748749e-03,  2.89807320e-01,  2.95448303e-03,\n",
      "        2.89807320e-01,  5.25188446e-03,  2.89807320e-01,  8.73470306e-03,\n",
      "        2.89807320e-01,  1.41477585e-02,  2.89807320e-01,  2.26173401e-02,\n",
      "        2.89807320e-01,  3.59430313e-02,  2.89807320e-01,  5.71956635e-02,\n",
      "        2.89807320e-01,  9.14068222e-02,  2.89807320e-01,  1.45185471e-01,\n",
      "        2.89807320e-01,  9.10148621e-02,  2.89806366e-01,  5.72013855e-02,\n",
      "        2.89807320e-01,  3.60622406e-02,  2.89807320e-01,  2.24618912e-02,\n",
      "        2.89807320e-01,  1.39760971e-02,  2.89807320e-01,  8.74614716e-03,\n",
      "        2.89807320e-01,  5.54180145e-03,  2.89806366e-01,  3.60584259e-03,\n",
      "        2.89807320e-01,  2.47097015e-03,  2.89807320e-01,  1.86729431e-03,\n",
      "        2.89807320e-01,  1.60884857e-03,  2.89807320e-01,  1.72424316e-03,\n",
      "        2.89806366e-01,  2.25925446e-03,  2.89807320e-01,  3.31878662e-03,\n",
      "        2.89807320e-01,  5.12599945e-03,  2.89807320e-01,  8.08048248e-03,\n",
      "        2.89807320e-01,  1.28049850e-02,  2.89807320e-01,  2.03533173e-02,\n",
      "        2.89806366e-01,  3.24134827e-02,  2.89807320e-01,  5.16672134e-02,\n",
      "        2.89807320e-01,  8.23850632e-02,  2.89807320e-01,  1.31344795e-01,\n",
      "        2.89807320e-01,  2.09206581e-01,  2.89807320e-01,  3.32349777e-01,\n",
      "        2.89807320e-01,  5.24386406e-01])\n",
      " message: 'Optimization terminated successfully'\n",
      "    nfev: 4592\n",
      "     nit: 18\n",
      "    njev: 18\n",
      "  status: 0\n",
      " success: True\n",
      "       x: array([ 1.44903636e+01,  1.33765069e-20, -1.34247587e-19,  1.57079633e+00,\n",
      "        8.87556749e-18,  1.44903636e-01,  1.28098906e+00,  4.14087552e-02,\n",
      "        2.83764640e-01,  1.00966212e+00,  1.18518764e-01,  4.06447606e-01,\n",
      "        8.37269790e-01,  2.15530787e-01,  5.14084640e-01,  7.28519017e-01,\n",
      "        3.23652258e-01,  6.10556454e-01,  6.60104812e-01,  4.38115692e-01,\n",
      "        6.99411313e-01,  6.17109088e-01,  5.56292544e-01,  7.83264132e-01,\n",
      "        5.90097730e-01,  6.76690990e-01,  8.63894634e-01,  5.73135805e-01,\n",
      "        7.98439700e-01,  9.42471446e-01,  5.62515355e-01,  9.21016049e-01,\n",
      "        1.01975082e+00,  5.55906940e-01,  1.04410041e+00,  1.09621849e+00,\n",
      "        5.51844438e-01,  1.16749441e+00,  1.17218549e+00,  5.49401417e-01,\n",
      "        1.29107363e+00,  1.24785081e+00,  5.48044862e-01,  1.41475537e+00,\n",
      "        1.32334842e+00,  5.47434844e-01,  1.53848315e+00,  1.39877057e+00,\n",
      "        5.47439934e-01,  1.66221055e+00,  1.47419334e+00,  5.48093767e-01,\n",
      "        1.78588860e+00,  1.54969700e+00,  5.49570866e-01,  1.90945500e+00,\n",
      "        1.62538326e+00,  5.52196618e-01,  2.03282223e+00,  1.70139372e+00,\n",
      "        5.56563907e-01,  2.15585633e+00,  1.77794222e+00,  5.63637778e-01,\n",
      "        2.27834586e+00,  1.85535914e+00,  5.74946117e-01,  2.39995213e+00,\n",
      "        1.93415622e+00,  5.92917387e-01,  2.52012275e+00,  2.01512589e+00,\n",
      "        6.21514955e-01,  2.63792901e+00,  2.09949856e+00,  6.67218120e-01,\n",
      "        2.75175750e+00,  2.18916538e+00,  7.39810756e-01,  2.85878277e+00,\n",
      "        2.28685190e+00,  7.85317863e-01,  2.96125334e+00,  2.38930601e+00,\n",
      "        8.13918193e-01,  3.06075218e+00,  2.49464852e+00,  8.31949267e-01,\n",
      "        3.15833552e+00,  2.60176789e+00,  8.43180191e-01,  3.25470968e+00,\n",
      "        2.70997642e+00,  8.50168208e-01,  3.35032532e+00,  2.81885577e+00,\n",
      "        8.54540910e-01,  3.44546396e+00,  2.92815217e+00,  8.57311820e-01,\n",
      "        3.54029938e+00,  3.03771178e+00,  8.59114529e-01,  3.63493714e+00,\n",
      "        3.14744216e+00,  8.60349840e-01,  3.72943928e+00,  3.25728937e+00,\n",
      "        8.61283608e-01,  3.82383880e+00,  3.36722478e+00,  8.62088138e-01,\n",
      "        3.91814985e+00,  3.47723610e+00,  8.62950258e-01,  4.01236602e+00,\n",
      "        3.58732868e+00,  8.64079587e-01,  4.10645780e+00,  3.69752759e+00,\n",
      "        8.65738683e-01,  4.20036662e+00,  3.80788246e+00,  8.68301810e-01,\n",
      "        4.29399228e+00,  3.91847767e+00,  8.72341897e-01,  4.38717036e+00,\n",
      "        4.02945023e+00,  8.78744175e-01,  4.47963606e+00,  4.14101706e+00,\n",
      "        8.88920519e-01,  4.57096165e+00,  4.25351907e+00,  9.05126896e-01,\n",
      "        4.66045207e+00,  4.36748629e+00,  9.30960391e-01,  4.74696879e+00,\n",
      "        4.48372707e+00,  9.72152988e-01,  4.82862521e+00,  4.60343210e+00,\n",
      "        1.03782503e+00,  4.90224999e+00,  4.72823777e+00,  1.14242830e+00,\n",
      "        4.96244106e+00,  4.86004862e+00,  1.30860309e+00,  5.00000000e+00,\n",
      "        5.00000000e+00,  1.57079633e+00,  5.00000000e-01, -1.00000000e+00,\n",
      "        5.00000000e-01, -9.36232320e-01,  5.00000000e-01, -5.94851646e-01,\n",
      "        5.00000000e-01, -3.75252053e-01,  5.00000000e-01, -2.36067936e-01,\n",
      "        5.00000000e-01, -1.48359715e-01,  5.00000000e-01, -9.32045561e-02,\n",
      "        5.00000000e-01, -5.85282914e-02,  5.00000000e-01, -3.66465988e-02,\n",
      "        5.00000000e-01, -2.28027914e-02,  5.00000000e-01, -1.40179454e-02,\n",
      "        5.00000000e-01, -8.42981156e-03,  5.00000000e-01, -4.68088793e-03,\n",
      "        5.00000000e-01, -2.10490920e-03,  5.00000000e-01,  1.75651080e-05,\n",
      "        5.00000000e-01,  2.25609527e-03,  5.00000000e-01,  5.09683241e-03,\n",
      "        5.00000000e-01,  9.06034138e-03,  5.00000000e-01,  1.50696317e-02,\n",
      "        5.00000000e-01,  2.44088789e-02,  5.00000000e-01,  3.90202036e-02,\n",
      "        5.00000000e-01,  6.20111045e-02,  5.00000000e-01,  9.86778868e-02,\n",
      "        5.00000000e-01,  1.57701930e-01,  5.00000000e-01,  2.50485900e-01,\n",
      "        5.00000000e-01,  1.57025414e-01,  5.00000000e-01,  9.86874116e-02,\n",
      "        5.00000000e-01,  6.22174647e-02,  5.00000000e-01,  3.87530781e-02,\n",
      "        5.00000000e-01,  2.41126369e-02,  5.00000000e-01,  1.50883132e-02,\n",
      "        5.00000000e-01,  9.56121546e-03,  5.00000000e-01,  6.22037206e-03,\n",
      "        5.00000000e-01,  4.26252777e-03,  5.00000000e-01,  3.22203009e-03,\n",
      "        5.00000000e-01,  2.77608734e-03,  5.00000000e-01,  2.97480356e-03,\n",
      "        5.00000000e-01,  3.89682697e-03,  5.00000000e-01,  5.72482739e-03,\n",
      "        5.00000000e-01,  8.84424763e-03,  5.00000000e-01,  1.39405967e-02,\n",
      "        5.00000000e-01,  2.20915035e-02,  5.00000000e-01,  3.51141769e-02,\n",
      "        5.00000000e-01,  5.59212220e-02,  5.00000000e-01,  8.91402592e-02,\n",
      "        5.00000000e-01,  1.42137900e-01,  5.00000000e-01,  2.26605929e-01,\n",
      "        5.00000000e-01,  3.60940788e-01,  5.00000000e-01,  5.73397605e-01,\n",
      "        5.00000000e-01,  9.04715855e-01])\n"
     ]
    },
    {
     "data": {
      "image/png": "[encoded data removed]",
      "text/plain": [
       "<Figure size 432x288 with 1 Axes>"
      ]
     },
     "metadata": {
      "needs_background": "light"
     },
     "output_type": "display_data"
    }
   ],
   "source": [
    "show_traj_plan(alpha=5)"
   ]
  },
  {
   "cell_type": "code",
   "execution_count": 14,
   "metadata": {
    "id": "De2z_OQB3SRr"
   },
   "outputs": [
    {
     "name": "stdout",
     "output_type": "stream",
     "text": [
      "     fun: 148.9969042266982\n",
      "     jac: array([ 1.03378220e+01,  0.00000000e+00,  0.00000000e+00,  0.00000000e+00,\n",
      "        0.00000000e+00,  0.00000000e+00,  0.00000000e+00,  0.00000000e+00,\n",
      "        0.00000000e+00,  0.00000000e+00,  0.00000000e+00,  0.00000000e+00,\n",
      "        0.00000000e+00,  0.00000000e+00,  0.00000000e+00,  0.00000000e+00,\n",
      "        0.00000000e+00,  0.00000000e+00,  0.00000000e+00,  0.00000000e+00,\n",
      "        0.00000000e+00,  0.00000000e+00,  0.00000000e+00,  0.00000000e+00,\n",
      "        0.00000000e+00,  0.00000000e+00,  0.00000000e+00,  0.00000000e+00,\n",
      "        0.00000000e+00,  0.00000000e+00,  0.00000000e+00,  0.00000000e+00,\n",
      "        0.00000000e+00,  0.00000000e+00,  0.00000000e+00,  0.00000000e+00,\n",
      "        0.00000000e+00,  0.00000000e+00,  0.00000000e+00,  0.00000000e+00,\n",
      "        0.00000000e+00,  0.00000000e+00,  0.00000000e+00,  0.00000000e+00,\n",
      "        0.00000000e+00,  0.00000000e+00,  0.00000000e+00,  0.00000000e+00,\n",
      "        0.00000000e+00,  0.00000000e+00,  0.00000000e+00,  0.00000000e+00,\n",
      "        0.00000000e+00,  0.00000000e+00,  0.00000000e+00,  0.00000000e+00,\n",
      "        0.00000000e+00,  0.00000000e+00,  0.00000000e+00,  0.00000000e+00,\n",
      "        0.00000000e+00,  0.00000000e+00,  0.00000000e+00,  0.00000000e+00,\n",
      "        0.00000000e+00,  0.00000000e+00,  0.00000000e+00,  0.00000000e+00,\n",
      "        0.00000000e+00,  0.00000000e+00,  0.00000000e+00,  0.00000000e+00,\n",
      "        0.00000000e+00,  0.00000000e+00,  0.00000000e+00,  0.00000000e+00,\n",
      "        0.00000000e+00,  0.00000000e+00,  0.00000000e+00,  0.00000000e+00,\n",
      "        0.00000000e+00,  0.00000000e+00,  0.00000000e+00,  0.00000000e+00,\n",
      "        0.00000000e+00,  0.00000000e+00,  0.00000000e+00,  0.00000000e+00,\n",
      "        0.00000000e+00,  0.00000000e+00,  0.00000000e+00,  0.00000000e+00,\n",
      "        0.00000000e+00,  0.00000000e+00,  0.00000000e+00,  0.00000000e+00,\n",
      "        0.00000000e+00,  0.00000000e+00,  0.00000000e+00,  0.00000000e+00,\n",
      "        0.00000000e+00,  0.00000000e+00,  0.00000000e+00,  0.00000000e+00,\n",
      "        0.00000000e+00,  0.00000000e+00,  0.00000000e+00,  0.00000000e+00,\n",
      "        0.00000000e+00,  0.00000000e+00,  0.00000000e+00,  0.00000000e+00,\n",
      "        0.00000000e+00,  0.00000000e+00,  0.00000000e+00,  0.00000000e+00,\n",
      "        0.00000000e+00,  0.00000000e+00,  0.00000000e+00,  0.00000000e+00,\n",
      "        0.00000000e+00,  0.00000000e+00,  0.00000000e+00,  0.00000000e+00,\n",
      "        0.00000000e+00,  0.00000000e+00,  0.00000000e+00,  0.00000000e+00,\n",
      "        0.00000000e+00,  0.00000000e+00,  0.00000000e+00,  0.00000000e+00,\n",
      "        0.00000000e+00,  0.00000000e+00,  0.00000000e+00,  0.00000000e+00,\n",
      "        0.00000000e+00,  0.00000000e+00,  0.00000000e+00,  0.00000000e+00,\n",
      "        0.00000000e+00,  0.00000000e+00,  0.00000000e+00,  0.00000000e+00,\n",
      "        0.00000000e+00,  0.00000000e+00,  0.00000000e+00,  0.00000000e+00,\n",
      "        0.00000000e+00,  0.00000000e+00,  0.00000000e+00,  0.00000000e+00,\n",
      "        0.00000000e+00,  0.00000000e+00,  2.88255692e-01, -5.76511383e-01,\n",
      "        2.88255692e-01, -4.16000366e-01,  2.88255692e-01, -2.20550537e-01,\n",
      "        2.88255692e-01, -1.16619110e-01,  2.88255692e-01, -6.16130829e-02,\n",
      "        2.88255692e-01, -3.25317383e-02,  2.88255692e-01, -1.71661377e-02,\n",
      "        2.88255692e-01, -9.05609131e-03,  2.88255692e-01, -4.78363037e-03,\n",
      "        2.88255692e-01, -2.54058838e-03,  2.88255692e-01, -1.36184692e-03,\n",
      "        2.88255692e-01, -7.57217407e-04,  2.88255692e-01, -4.59671021e-04,\n",
      "        2.88255692e-01, -3.43322754e-04,  2.88255692e-01, -3.29971313e-04,\n",
      "        2.88255692e-01, -5.05447388e-04,  2.88255692e-01, -8.90731812e-04,\n",
      "        2.88255692e-01, -1.63841248e-03,  2.88255692e-01, -3.11470032e-03,\n",
      "        2.88255692e-01, -5.92041016e-03,  2.88255692e-01, -1.12113953e-02,\n",
      "        2.88255692e-01, -2.11868286e-02,  2.88255692e-01, -4.01229858e-02,\n",
      "        2.88255692e-01, -7.58647919e-02,  2.88255692e-01, -1.44130707e-01,\n",
      "        2.88255692e-01, -7.57904053e-02,  2.88255692e-01, -3.98139954e-02,\n",
      "        2.88255692e-01, -2.08816528e-02,  2.88255692e-01, -1.09386444e-02,\n",
      "        2.88255692e-01, -5.72586060e-03,  2.88255692e-01, -2.98118591e-03,\n",
      "        2.88255692e-01, -1.54495239e-03,  2.88255692e-01, -9.21249390e-04,\n",
      "        2.88255692e-01, -3.12805176e-04,  2.88255692e-01, -1.50680542e-04,\n",
      "        2.88255692e-01, -4.00543213e-05,  2.88255692e-01,  1.85012817e-04,\n",
      "        2.88255692e-01,  6.21795654e-04,  2.88255692e-01,  1.10244751e-03,\n",
      "        2.88255692e-01,  2.12287903e-03,  2.88255692e-01,  4.02259827e-03,\n",
      "        2.88255692e-01,  7.69042969e-03,  2.88255692e-01,  1.46942139e-02,\n",
      "        2.88255692e-01,  2.79731750e-02,  2.88257599e-01,  5.32093048e-02,\n",
      "        2.88255692e-01,  1.01264954e-01,  2.88255692e-01,  1.92623138e-01,\n",
      "        2.88255692e-01,  3.65808487e-01,  2.88255692e-01,  5.76511383e-01,\n",
      "        2.88255692e-01,  5.76513290e-01])\n",
      " message: 'Optimization terminated successfully'\n",
      "    nfev: 5612\n",
      "     nit: 22\n",
      "    njev: 22\n",
      "  status: 0\n",
      " success: True\n",
      "       x: array([ 1.44127955e+01,  3.36743142e-20,  1.33069062e-20,  1.57079633e+00,\n",
      "        8.84920977e-18,  1.44127955e-01,  1.28254042e+00,  4.09727709e-02,\n",
      "        2.82309355e-01,  1.07453974e+00,  1.09597427e-01,  4.09051313e-01,\n",
      "        9.64263556e-01,  1.91753549e-01,  5.27471071e-01,  9.05953775e-01,\n",
      "        2.80671161e-01,  6.40901779e-01,  8.75146326e-01,  3.73040539e-01,\n",
      "        7.51539771e-01,  8.58880395e-01,  4.67197248e-01,  8.60660720e-01,\n",
      "        8.50296609e-01,  5.62287148e-01,  9.68969437e-01,  8.45768347e-01,\n",
      "        6.57866522e-01,  1.07684645e+00,  8.43375642e-01,  7.53703739e-01,\n",
      "        1.18449447e+00,  8.42104806e-01,  8.49677682e-01,  1.29202060e+00,\n",
      "        8.41423189e-01,  9.45724895e-01,  1.39948130e+00,  8.41044515e-01,\n",
      "        1.04181279e+00,  1.50690561e+00,  8.40814690e-01,  1.13792538e+00,\n",
      "        1.61430784e+00,  8.40642705e-01,  1.23405643e+00,  1.72169353e+00,\n",
      "        8.40477803e-01,  1.33020519e+00,  1.82906338e+00,  8.40224375e-01,\n",
      "        1.42638116e+00,  1.93640885e+00,  8.39778545e-01,  1.52260498e+00,\n",
      "        2.04371143e+00,  8.38958653e-01,  1.61891674e+00,  2.15093509e+00,\n",
      "        8.37400994e-01,  1.71539540e+00,  2.25800859e+00,  8.34440227e-01,\n",
      "        1.81219066e+00,  2.36479597e+00,  8.28834241e-01,  1.90958304e+00,\n",
      "        2.47103905e+00,  8.18240133e-01,  2.00809549e+00,  2.57624440e+00,\n",
      "        7.98178522e-01,  2.10869856e+00,  2.67945239e+00,  7.60245888e-01,\n",
      "        2.21314328e+00,  2.77877091e+00,  6.88179986e-01,  2.32446818e+00,\n",
      "        2.87031125e+00,  6.50284935e-01,  2.43918125e+00,  2.95756822e+00,\n",
      "        6.30377287e-01,  2.55560856e+00,  3.04252438e+00,  6.19935837e-01,\n",
      "        2.67291657e+00,  3.12626027e+00,  6.14466389e-01,  2.79068081e+00,\n",
      "        3.20935329e+00,  6.11603079e-01,  2.90868249e+00,  3.29210878e+00,\n",
      "        6.10112486e-01,  3.02680740e+00,  3.37468828e+00,  6.09340012e-01,\n",
      "        3.14499606e+00,  3.45717651e+00,  6.08879232e-01,  3.26322272e+00,\n",
      "        3.53961028e+00,  6.08722219e-01,  3.38146231e+00,  3.62202548e+00,\n",
      "        6.08647151e-01,  3.49970810e+00,  3.70443180e+00,  6.08626612e-01,\n",
      "        3.61795558e+00,  3.78683569e+00,  6.08719207e-01,  3.73619542e+00,\n",
      "        3.86925053e+00,  6.09029723e-01,  3.85440967e+00,  3.95170209e+00,\n",
      "        6.09580821e-01,  3.97257846e+00,  4.03421878e+00,  6.10641514e-01,\n",
      "        4.09065966e+00,  4.11686076e+00,  6.12652194e-01,  4.20857446e+00,\n",
      "        4.19974000e+00,  6.16497684e-01,  4.32616967e+00,  4.28307207e+00,\n",
      "        6.23844549e-01,  4.44314949e+00,  4.36726583e+00,  6.37830664e-01,\n",
      "        4.55894036e+00,  4.45308740e+00,  6.64435916e-01,  4.67240721e+00,\n",
      "        4.54195888e+00,  7.15068245e-01,  4.78123081e+00,  4.63645911e+00,\n",
      "        8.11379915e-01,  4.88046267e+00,  4.74098617e+00,  9.94284508e-01,\n",
      "        4.95902723e+00,  4.86181860e+00,  1.28254042e+00,  5.00000000e+00,\n",
      "        5.00000000e+00,  1.57079633e+00,  5.00000000e-01, -1.00000000e+00,\n",
      "        5.00000000e-01, -7.21583379e-01,  5.00000000e-01, -3.82563496e-01,\n",
      "        5.00000000e-01, -2.02284773e-01,  5.00000000e-01, -1.06875340e-01,\n",
      "        5.00000000e-01, -5.64287882e-02,  5.00000000e-01, -2.97783521e-02,\n",
      "        5.00000000e-01, -1.57091711e-02,  5.00000000e-01, -8.30063069e-03,\n",
      "        5.00000000e-01, -4.40870651e-03,  5.00000000e-01, -2.36462473e-03,\n",
      "        5.00000000e-01, -1.31367122e-03,  5.00000000e-01, -7.97296252e-04,\n",
      "        5.00000000e-01, -5.96638596e-04,  5.00000000e-01, -5.72068232e-04,\n",
      "        5.00000000e-01, -8.79179333e-04,  5.00000000e-01, -1.54664673e-03,\n",
      "        5.00000000e-01, -2.84431820e-03,  5.00000000e-01, -5.40373792e-03,\n",
      "        5.00000000e-01, -1.02713122e-02,  5.00000000e-01, -1.94479507e-02,\n",
      "        5.00000000e-01, -3.67524381e-02,  5.00000000e-01, -6.95965294e-02,\n",
      "        5.00000000e-01, -1.31593605e-01,  5.00000000e-01, -2.50006675e-01,\n",
      "        5.00000000e-01, -1.31463224e-01,  5.00000000e-01, -6.90624106e-02,\n",
      "        5.00000000e-01, -3.62228487e-02,  5.00000000e-01, -1.89742779e-02,\n",
      "        5.00000000e-01, -9.93322303e-03,  5.00000000e-01, -5.17107566e-03,\n",
      "        5.00000000e-01, -2.67981881e-03,  5.00000000e-01, -1.59851063e-03,\n",
      "        5.00000000e-01, -5.44701343e-04,  5.00000000e-01, -2.60419210e-04,\n",
      "        5.00000000e-01, -7.12555587e-05,  5.00000000e-01,  3.21224771e-04,\n",
      "        5.00000000e-01,  1.07722494e-03,  5.00000000e-01,  1.91183629e-03,\n",
      "        5.00000000e-01,  3.67969108e-03,  5.00000000e-01,  6.97532956e-03,\n",
      "        5.00000000e-01,  1.33405415e-02,  5.00000000e-01,  2.54873017e-02,\n",
      "        5.00000000e-01,  4.85197848e-02,  5.00000000e-01,  9.22973361e-02,\n",
      "        5.00000000e-01,  1.75650620e-01,  5.00000000e-01,  3.34118629e-01,\n",
      "        5.00000000e-01,  6.34521575e-01,  5.00000000e-01,  1.00000000e+00,\n",
      "        5.00000000e-01,  1.00000000e+00])\n"
     ]
    },
    {
     "data": {
      "image/png": "[encoded data removed]",
      "text/plain": [
       "<Figure size 432x288 with 1 Axes>"
      ]
     },
     "metadata": {
      "needs_background": "light"
     },
     "output_type": "display_data"
    }
   ],
   "source": [
    "show_traj_plan(alpha=10.0)"
   ]
  },
  {
   "cell_type": "code",
   "execution_count": null,
   "metadata": {},
   "outputs": [],
   "source": []
  }
 ],
 "metadata": {
  "colab": {
   "provenance": []
  },
  "kernelspec": {
   "display_name": "Python 3 (ipykernel)",
   "language": "python",
   "name": "python3"
  },
  "language_info": {
   "codemirror_mode": {
    "name": "ipython",
    "version": 3
   },
   "file_extension": ".py",
   "mimetype": "text/x-python",
   "name": "python",
   "nbconvert_exporter": "python",
   "pygments_lexer": "ipython3",
   "version": "3.10.12"
  }
 },
 "nbformat": 4,
 "nbformat_minor": 1
}
